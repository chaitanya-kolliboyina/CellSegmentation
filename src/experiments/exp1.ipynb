{
 "cells": [
  {
   "cell_type": "code",
   "execution_count": 1,
   "id": "7450ac2d",
   "metadata": {},
   "outputs": [],
   "source": [
    "import torch\n",
    "from dataclasses import dataclass"
   ]
  },
  {
   "cell_type": "code",
   "execution_count": 2,
   "id": "8e413dcf",
   "metadata": {},
   "outputs": [],
   "source": [
    "@dataclass\n",
    "class gpuConfig:\n",
    "    device: str = \"cuda\" if torch.cuda.is_available() else \"cpu\"\n",
    "    num_gpus: int = torch.cuda.device_count()\n",
    "    device_name :str = torch.cuda.get_device_name()\n",
    "    device_properties :str = torch.cuda.get_device_properties()"
   ]
  },
  {
   "cell_type": "code",
   "execution_count": 4,
   "id": "b0863abf",
   "metadata": {},
   "outputs": [
    {
     "data": {
      "text/plain": [
       "'NVIDIA GeForce RTX 3050 Ti Laptop GPU'"
      ]
     },
     "execution_count": 4,
     "metadata": {},
     "output_type": "execute_result"
    }
   ],
   "source": [
    "gpuConfig.device_name"
   ]
  },
  {
   "cell_type": "code",
   "execution_count": null,
   "id": "9d9f9114",
   "metadata": {},
   "outputs": [],
   "source": [
    "@dataclass\n",
    "class dataConfig:\n",
    "    data_path: str = \"./data/brain_tumor\"\n",
    "    model_name: str = \"nvidia/segformer-b0-finetuned-ade-512-512\"\n",
    "    batch_size: int = 32\n",
    "    epochs: int = 5\n",
    "    lr: float = 2e-5\n",
    "    num_classes: int = 2 #background & Cell "
   ]
  },
  {
   "cell_type": "code",
   "execution_count": 5,
   "id": "359bbac6",
   "metadata": {},
   "outputs": [],
   "source": [
    "@dataclass\n",
    "class DataPaths:\n",
    "    images_root: str\n",
    "    masks_root: str"
   ]
  },
  {
   "cell_type": "code",
   "execution_count": 6,
   "id": "f1b4b502",
   "metadata": {},
   "outputs": [],
   "source": [
    "from transformers import SegformerImageProcessor"
   ]
  },
  {
   "cell_type": "code",
   "execution_count": 7,
   "id": "2b6cf121",
   "metadata": {},
   "outputs": [],
   "source": [
    "def get_preprocessor(model_name):\n",
    "    processor = SegformerImageProcessor.from_pretrained(model_name)\n",
    "    \n",
    "    def preprocess_pipeline(image, mask=None):\n",
    "        if mask is not None:\n",
    "            inputs = processor(images=image, segmentation_maps=mask, return_tensors=\"pt\")\n",
    "            return inputs[\"pixel_values\"].squeeze(0), inputs[\"labels\"].squeeze(0)\n",
    "        else:\n",
    "            inputs = processor(images=image, return_tensors=\"pt\")\n",
    "            return inputs[\"pixel_values\"].squeeze(0), None"
   ]
  },
  {
   "cell_type": "code",
   "execution_count": 8,
   "id": "c14fd182",
   "metadata": {},
   "outputs": [],
   "source": [
    "def get_dataloader(img_paths, mask_paths, preprocess_pipeline, batch_size, shuffle=True):\n",
    "    dataset = SegmentationDataset(img_paths, mask_paths, transform=preprocess_pipeline)\n",
    "    return DataLoader(dataset, batch_size=batch_size, shuffle=shuffle, num_workers=4)"
   ]
  },
  {
   "cell_type": "code",
   "execution_count": null,
   "id": "5c644805",
   "metadata": {},
   "outputs": [],
   "source": []
  }
 ],
 "metadata": {
  "kernelspec": {
   "display_name": "venv",
   "language": "python",
   "name": "python3"
  },
  "language_info": {
   "codemirror_mode": {
    "name": "ipython",
    "version": 3
   },
   "file_extension": ".py",
   "mimetype": "text/x-python",
   "name": "python",
   "nbconvert_exporter": "python",
   "pygments_lexer": "ipython3",
   "version": "3.12.3"
  }
 },
 "nbformat": 4,
 "nbformat_minor": 5
}
