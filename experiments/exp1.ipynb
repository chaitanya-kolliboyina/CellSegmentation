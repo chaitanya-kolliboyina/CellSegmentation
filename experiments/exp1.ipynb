{
 "cells": [
  {
   "cell_type": "code",
   "execution_count": 6,
   "id": "70075337",
   "metadata": {},
   "outputs": [],
   "source": [
    "import torch\n",
    "from dataclasses import dataclass"
   ]
  },
  {
   "cell_type": "code",
   "execution_count": 5,
   "id": "2dea26c1",
   "metadata": {},
   "outputs": [
    {
     "data": {
      "text/plain": [
       "(True,\n",
       " 1,\n",
       " 'NVIDIA GeForce RTX 3050 Ti Laptop GPU',\n",
       " _CudaDeviceProperties(name='NVIDIA GeForce RTX 3050 Ti Laptop GPU', major=8, minor=6, total_memory=3768MB, multi_processor_count=20, uuid=84e62307-916b-3a96-1d36-713d33e3a11f, pci_bus_id=1, pci_device_id=0, pci_domain_id=0, L2_cache_size=2MB))"
      ]
     },
     "execution_count": 5,
     "metadata": {},
     "output_type": "execute_result"
    }
   ],
   "source": [
    "torch.cuda.is_available(), torch.cuda.device_count(), torch.cuda.get_device_name(), torch.cuda.get_device_properties()"
   ]
  },
  {
   "cell_type": "code",
   "execution_count": 7,
   "id": "0e36cb2a",
   "metadata": {},
   "outputs": [],
   "source": [
    "@dataclass\n",
    "class gpuConfig:\n",
    "    device: str = \"cuda\" if torch.cuda.is_available() else \"cpu\"\n",
    "    num_gpus: int = torch.cuda.device_count()\n",
    "    device_name :str = torch.cuda.get_device_name()\n",
    "    device_properties :str = torch.cuda.get_device_properties()"
   ]
  },
  {
   "cell_type": "code",
   "execution_count": null,
   "id": "ab64c648",
   "metadata": {},
   "outputs": [
    {
     "data": {
      "text/plain": [
       "_CudaDeviceProperties(name='NVIDIA GeForce RTX 3050 Ti Laptop GPU', major=8, minor=6, total_memory=3768MB, multi_processor_count=20, uuid=84e62307-916b-3a96-1d36-713d33e3a11f, pci_bus_id=1, pci_device_id=0, pci_domain_id=0, L2_cache_size=2MB)"
      ]
     },
     "execution_count": 8,
     "metadata": {},
     "output_type": "execute_result"
    }
   ],
   "source": []
  },
  {
   "cell_type": "code",
   "execution_count": null,
   "id": "99fe8698",
   "metadata": {},
   "outputs": [],
   "source": []
  }
 ],
 "metadata": {
  "kernelspec": {
   "display_name": "venv",
   "language": "python",
   "name": "python3"
  },
  "language_info": {
   "codemirror_mode": {
    "name": "ipython",
    "version": 3
   },
   "file_extension": ".py",
   "mimetype": "text/x-python",
   "name": "python",
   "nbconvert_exporter": "python",
   "pygments_lexer": "ipython3",
   "version": "3.12.3"
  }
 },
 "nbformat": 4,
 "nbformat_minor": 5
}
